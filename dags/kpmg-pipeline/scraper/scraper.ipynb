{
 "cells": [
  {
   "cell_type": "code",
   "execution_count": 7,
   "metadata": {},
   "outputs": [],
   "source": [
    "import requests\n",
    "import json\n",
    "from datetime import datetime, date, timedelta\n",
    "\n",
    "now = datetime.now() \n",
    "today = now.strftime(\"%Y-%m-%d\")\n",
    "yesterday = (now - timedelta(days=100)).strftime(\"%Y-%m-%d\") #new files not added often so increase the days number in timedelta to avoid empty string\n",
    "\n",
    "url = \"https://public-search.emploi.belgique.be/website-service/joint-work-convention/search\"\n",
    "dl_url = \"https://public-search.emploi.belgique.be/website-download-service/joint-work-convention/\"\n",
    "\n",
    "r = requests.post(url,json={\"signatureDate\": {'start': yesterday+\"T00:00:00.000Z\", 'end': today+\"T00:00:00.000Z\"}})\n",
    "\n",
    "data = r.json()\n",
    "\n",
    "with open(\"sample.json\") as file:\n",
    "    existing_data = json.loads(file.read())\n",
    "\n",
    "for item in data:\n",
    "    if not any(d['depositNumber'] == item['depositNumber'] for d in existing_data):\n",
    "        item['documentLink'] = dl_url + item['documentLink']\n",
    "        existing_data.append(item)\n",
    "\n",
    "json_object = json.dumps(existing_data, indent=4)\n",
    "\n",
    "with open(\"sample.json\", \"w\") as outfile:\n",
    "    outfile.write(json_object)\n"
   ]
  }
 ],
 "metadata": {
  "kernelspec": {
   "display_name": "Python 3.10.8 64-bit",
   "language": "python",
   "name": "python3"
  },
  "language_info": {
   "codemirror_mode": {
    "name": "ipython",
    "version": 3
   },
   "file_extension": ".py",
   "mimetype": "text/x-python",
   "name": "python",
   "nbconvert_exporter": "python",
   "pygments_lexer": "ipython3",
   "version": "3.10.8"
  },
  "orig_nbformat": 4,
  "vscode": {
   "interpreter": {
    "hash": "b0fa6594d8f4cbf19f97940f81e996739fb7646882a419484c72d19e05852a7e"
   }
  }
 },
 "nbformat": 4,
 "nbformat_minor": 2
}
